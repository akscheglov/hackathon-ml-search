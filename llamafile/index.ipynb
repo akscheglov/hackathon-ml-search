{
 "cells": [
  {
   "cell_type": "code",
   "execution_count": 2,
   "id": "1a5ca04e-fd28-4fe1-b8c1-489df7b5cc78",
   "metadata": {},
   "outputs": [],
   "source": [
    "from config import server_url, persist_dir, input_dir_path, request_timeout\n",
    "from llama_index.core import SimpleDirectoryReader"
   ]
  },
  {
   "cell_type": "code",
   "execution_count": 3,
   "id": "d637169d",
   "metadata": {},
   "outputs": [
    {
     "data": {
      "text/plain": [
       "'/Users/akscheglov/hackaton/data'"
      ]
     },
     "execution_count": 3,
     "metadata": {},
     "output_type": "execute_result"
    }
   ],
   "source": [
    "import os\n",
    "os.path.abspath(input_dir_path)"
   ]
  },
  {
   "cell_type": "code",
   "execution_count": 4,
   "id": "b4f1e397",
   "metadata": {},
   "outputs": [
    {
     "name": "stderr",
     "output_type": "stream",
     "text": [
      "Loading files:   0%|          | 0/1 [00:00<?, ?file/s]"
     ]
    },
    {
     "name": "stderr",
     "output_type": "stream",
     "text": [
      "Loading files: 100%|██████████| 1/1 [00:00<00:00,  1.90file/s]\n"
     ]
    },
    {
     "data": {
      "text/plain": [
       "[Document(id_='2df2310b-e810-4f7c-9f14-afec7fb6d26a', embedding=None, metadata={'file_path': '/Users/akscheglov/hackaton/llamafile/../data/lukomorie.txt', 'file_name': 'lukomorie.txt', 'file_type': 'text/plain', 'file_size': 1599, 'creation_date': '2024-12-28', 'last_modified_date': '2024-12-28'}, excluded_embed_metadata_keys=['file_name', 'file_type', 'file_size', 'creation_date', 'last_modified_date', 'last_accessed_date'], excluded_llm_metadata_keys=['file_name', 'file_type', 'file_size', 'creation_date', 'last_modified_date', 'last_accessed_date'], relationships={}, metadata_template='{key}: {value}', metadata_separator='\\n', text_resource=MediaResource(embeddings=None, data=None, text='У лукоморья дуб зелёный;\\nЗлатая цепь на дубе том:\\nИ днём и ночью кот учёный\\nВсё ходит по цепи кругом;\\nИдёт направо — песнь заводит,\\nНалево — сказку говорит.\\nТам чудеса: там леший бродит,\\nРусалка на ветвях сидит;\\nТам на неведомых дорожках\\nСледы невиданных зверей;\\nИзбушка там на курьих ножках\\nСтоит без окон, без дверей;\\nТам лес и дол видений полны;\\nТам о заре прихлынут волны\\nНа брег песчаный и пустой,\\nИ тридцать витязей прекрасных\\nЧредой из вод выходят ясных,\\nИ с ними дядька их морской;\\nТам королевич мимоходом\\nПленяет грозного царя;\\nТам в облаках перед народом\\nЧерез леса, через моря\\nКолдун несёт богатыря;\\nВ темнице там царевна тужит,\\nА бурый волк ей верно служит;\\nТам ступа с Бабою Ягой\\nИдёт, бредёт сама собой,\\nТам царь Кащей над златом чахнет;\\nТам русский дух… там Русью пахнет!\\nИ там я был, и мёд я пил;\\nУ моря видел дуб зелёный;\\nПод ним сидел, и кот учёный\\nСвои мне сказки говорил.\\n', mimetype=None, path=None, url=None), image_resource=None, audio_resource=None, video_resource=None, text_template='{metadata_str}\\n\\n{content}')]"
      ]
     },
     "execution_count": 4,
     "metadata": {},
     "output_type": "execute_result"
    }
   ],
   "source": [
    "local_doc_reader = SimpleDirectoryReader(input_dir=input_dir_path)\n",
    "documents = local_doc_reader.load_data(show_progress=True)\n",
    "\n",
    "documents"
   ]
  },
  {
   "cell_type": "code",
   "execution_count": 5,
   "id": "9e3144e4-24c5-4eec-a950-340c31e48c41",
   "metadata": {},
   "outputs": [
    {
     "data": {
      "text/plain": [
       "[TextNode(id_='174916f6-591f-4877-a02a-f4a4f36d139e', embedding=None, metadata={'file_path': '/Users/akscheglov/hackaton/llamafile/../data/lukomorie.txt', 'file_name': 'lukomorie.txt', 'file_type': 'text/plain', 'file_size': 1599, 'creation_date': '2024-12-28', 'last_modified_date': '2024-12-28'}, excluded_embed_metadata_keys=['file_name', 'file_type', 'file_size', 'creation_date', 'last_modified_date', 'last_accessed_date'], excluded_llm_metadata_keys=['file_name', 'file_type', 'file_size', 'creation_date', 'last_modified_date', 'last_accessed_date'], relationships={<NodeRelationship.SOURCE: '1'>: RelatedNodeInfo(node_id='2df2310b-e810-4f7c-9f14-afec7fb6d26a', node_type=<ObjectType.DOCUMENT: '4'>, metadata={'file_path': '/Users/akscheglov/hackaton/llamafile/../data/lukomorie.txt', 'file_name': 'lukomorie.txt', 'file_type': 'text/plain', 'file_size': 1599, 'creation_date': '2024-12-28', 'last_modified_date': '2024-12-28'}, hash='08b8d9b9816501107621b7bf2059bb82dd974c50c24537630d13ac42eb6ca7f4')}, metadata_template='{key}: {value}', metadata_separator='\\n', text='У лукоморья дуб зелёный;\\nЗлатая цепь на дубе том:\\nИ днём и ночью кот учёный\\nВсё ходит по цепи кругом;\\nИдёт направо — песнь заводит,\\nНалево — сказку говорит.\\nТам чудеса: там леший бродит,\\nРусалка на ветвях сидит;\\nТам на неведомых дорожках\\nСледы невиданных зверей;\\nИзбушка там на курьих ножках\\nСтоит без окон, без дверей;\\nТам лес и дол видений полны;\\nТам о заре прихлынут волны\\nНа брег песчаный и пустой,\\nИ тридцать витязей прекрасных\\nЧредой из вод выходят ясных,\\nИ с ними дядька их морской;\\nТам королевич мимоходом\\nПленяет грозного царя;\\nТам в облаках перед народом\\nЧерез леса, через моря\\nКолдун несёт богатыря;\\nВ темнице там царевна тужит,\\nА бурый волк ей верно служит;\\nТам ступа с Бабою Ягой\\nИдёт, бредёт сама собой,\\nТам царь Кащей над златом чахнет;\\nТам русский дух… там Русью пахнет!\\nИ там я был, и мёд я пил;\\nУ моря видел дуб зелёный;\\nПод ним сидел, и кот учёный\\nСвои мне сказки говорил.', mimetype='text/plain', start_char_idx=0, end_char_idx=891, metadata_seperator='\\n', text_template='{metadata_str}\\n\\n{content}')]"
      ]
     },
     "execution_count": 5,
     "metadata": {},
     "output_type": "execute_result"
    }
   ],
   "source": [
    "from llama_index.core.node_parser import SimpleFileNodeParser\n",
    "parser = SimpleFileNodeParser() # SemanticSplitterNodeParser(embed_model=embed_model)\n",
    "nodes = parser.get_nodes_from_documents(documents)\n",
    "\n",
    "nodes"
   ]
  },
  {
   "cell_type": "code",
   "execution_count": 6,
   "id": "995e7463-87e5-4728-8a11-6c1c79ba4638",
   "metadata": {},
   "outputs": [
    {
     "data": {
      "application/vnd.jupyter.widget-view+json": {
       "model_id": "e1a9d806fe6b4275b1461ea3d6f16835",
       "version_major": 2,
       "version_minor": 0
      },
      "text/plain": [
       "Parsing nodes:   0%|          | 0/1 [00:00<?, ?it/s]"
      ]
     },
     "metadata": {},
     "output_type": "display_data"
    },
    {
     "data": {
      "text/plain": [
       "[TextNode(id_='a271d10b-7e23-4fd1-b279-e531d10d3c0f', embedding=None, metadata={'file_path': '/Users/akscheglov/hackaton/llamafile/../data/lukomorie.txt', 'file_name': 'lukomorie.txt', 'file_type': 'text/plain', 'file_size': 1599, 'creation_date': '2024-12-28', 'last_modified_date': '2024-12-28'}, excluded_embed_metadata_keys=['file_name', 'file_type', 'file_size', 'creation_date', 'last_modified_date', 'last_accessed_date'], excluded_llm_metadata_keys=['file_name', 'file_type', 'file_size', 'creation_date', 'last_modified_date', 'last_accessed_date'], relationships={<NodeRelationship.SOURCE: '1'>: RelatedNodeInfo(node_id='2df2310b-e810-4f7c-9f14-afec7fb6d26a', node_type=<ObjectType.DOCUMENT: '4'>, metadata={'file_path': '/Users/akscheglov/hackaton/llamafile/../data/lukomorie.txt', 'file_name': 'lukomorie.txt', 'file_type': 'text/plain', 'file_size': 1599, 'creation_date': '2024-12-28', 'last_modified_date': '2024-12-28'}, hash='08b8d9b9816501107621b7bf2059bb82dd974c50c24537630d13ac42eb6ca7f4')}, metadata_template='{key}: {value}', metadata_separator='\\n', text='У лукоморья дуб зелёный;\\nЗлатая цепь на дубе том:\\nИ днём и ночью кот учёный\\nВсё ходит по цепи кругом;\\nИдёт направо — песнь заводит,\\nНалево — сказку говорит.\\nТам чудеса: там леший бродит,\\nРусалка на ветвях сидит;\\nТам на неведомых дорожках\\nСледы невиданных зверей;\\nИзбушка там на курьих ножках\\nСтоит без окон, без дверей;\\nТам лес и дол видений полны;\\nТам о заре прихлынут волны\\nНа брег песчаный и пустой,', mimetype='text/plain', start_char_idx=0, end_char_idx=402, metadata_seperator='\\n', text_template='{metadata_str}\\n\\n{content}'),\n",
       " TextNode(id_='5c714856-a679-44bd-99b1-40511db72719', embedding=None, metadata={'file_path': '/Users/akscheglov/hackaton/llamafile/../data/lukomorie.txt', 'file_name': 'lukomorie.txt', 'file_type': 'text/plain', 'file_size': 1599, 'creation_date': '2024-12-28', 'last_modified_date': '2024-12-28'}, excluded_embed_metadata_keys=['file_name', 'file_type', 'file_size', 'creation_date', 'last_modified_date', 'last_accessed_date'], excluded_llm_metadata_keys=['file_name', 'file_type', 'file_size', 'creation_date', 'last_modified_date', 'last_accessed_date'], relationships={<NodeRelationship.SOURCE: '1'>: RelatedNodeInfo(node_id='2df2310b-e810-4f7c-9f14-afec7fb6d26a', node_type=<ObjectType.DOCUMENT: '4'>, metadata={'file_path': '/Users/akscheglov/hackaton/llamafile/../data/lukomorie.txt', 'file_name': 'lukomorie.txt', 'file_type': 'text/plain', 'file_size': 1599, 'creation_date': '2024-12-28', 'last_modified_date': '2024-12-28'}, hash='08b8d9b9816501107621b7bf2059bb82dd974c50c24537630d13ac42eb6ca7f4'), <NodeRelationship.PREVIOUS: '2'>: RelatedNodeInfo(node_id='a271d10b-7e23-4fd1-b279-e531d10d3c0f', node_type=<ObjectType.TEXT: '1'>, metadata={'file_path': '/Users/akscheglov/hackaton/llamafile/../data/lukomorie.txt', 'file_name': 'lukomorie.txt', 'file_type': 'text/plain', 'file_size': 1599, 'creation_date': '2024-12-28', 'last_modified_date': '2024-12-28'}, hash='88037ef73e1ba7fd8ab889a6861fee94892479a7ac4758afd42d2384debac41b')}, metadata_template='{key}: {value}', metadata_separator='\\n', text='И тридцать витязей прекрасных\\nЧредой из вод выходят ясных,\\nИ с ними дядька их морской;\\nТам королевич мимоходом\\nПленяет грозного царя;\\nТам в облаках перед народом\\nЧерез леса, через моря\\nКолдун несёт богатыря;\\nВ темнице там царевна тужит,\\nА бурый волк ей верно служит;\\nТам ступа с Бабою Ягой\\nИдёт, бредёт сама собой,\\nТам царь Кащей над златом чахнет;\\nТам русский дух… там Русью пахнет!', mimetype='text/plain', start_char_idx=403, end_char_idx=786, metadata_seperator='\\n', text_template='{metadata_str}\\n\\n{content}'),\n",
       " TextNode(id_='f34b0b67-3e7d-4a09-8917-2a5f737358cf', embedding=None, metadata={'file_path': '/Users/akscheglov/hackaton/llamafile/../data/lukomorie.txt', 'file_name': 'lukomorie.txt', 'file_type': 'text/plain', 'file_size': 1599, 'creation_date': '2024-12-28', 'last_modified_date': '2024-12-28'}, excluded_embed_metadata_keys=['file_name', 'file_type', 'file_size', 'creation_date', 'last_modified_date', 'last_accessed_date'], excluded_llm_metadata_keys=['file_name', 'file_type', 'file_size', 'creation_date', 'last_modified_date', 'last_accessed_date'], relationships={<NodeRelationship.SOURCE: '1'>: RelatedNodeInfo(node_id='2df2310b-e810-4f7c-9f14-afec7fb6d26a', node_type=<ObjectType.DOCUMENT: '4'>, metadata={'file_path': '/Users/akscheglov/hackaton/llamafile/../data/lukomorie.txt', 'file_name': 'lukomorie.txt', 'file_type': 'text/plain', 'file_size': 1599, 'creation_date': '2024-12-28', 'last_modified_date': '2024-12-28'}, hash='08b8d9b9816501107621b7bf2059bb82dd974c50c24537630d13ac42eb6ca7f4'), <NodeRelationship.PREVIOUS: '2'>: RelatedNodeInfo(node_id='5c714856-a679-44bd-99b1-40511db72719', node_type=<ObjectType.TEXT: '1'>, metadata={'file_path': '/Users/akscheglov/hackaton/llamafile/../data/lukomorie.txt', 'file_name': 'lukomorie.txt', 'file_type': 'text/plain', 'file_size': 1599, 'creation_date': '2024-12-28', 'last_modified_date': '2024-12-28'}, hash='47dd1bbf00543fb5e43b7a707a02262dea3edc4c88604921a46a5a452181bd7d')}, metadata_template='{key}: {value}', metadata_separator='\\n', text='И там я был, и мёд я пил;\\nУ моря видел дуб зелёный;\\nПод ним сидел, и кот учёный\\nСвои мне сказки говорил.', mimetype='text/plain', start_char_idx=787, end_char_idx=891, metadata_seperator='\\n', text_template='{metadata_str}\\n\\n{content}')]"
      ]
     },
     "execution_count": 6,
     "metadata": {},
     "output_type": "execute_result"
    }
   ],
   "source": [
    "from llama_index.core.node_parser import SentenceSplitter\n",
    "from llama_index.core.ingestion import run_transformations\n",
    "\n",
    "transformations=[\n",
    "    SentenceSplitter(\n",
    "\t    chunk_size=256,\n",
    "\t    chunk_overlap=5\n",
    "    ),\n",
    "]\n",
    "\n",
    "transformed = run_transformations(nodes, show_progress=True, transformations=transformations)\n",
    "\n",
    "transformed"
   ]
  },
  {
   "cell_type": "code",
   "execution_count": 8,
   "id": "d45ad7ba-a606-4ef7-b345-17df7955a53c",
   "metadata": {},
   "outputs": [],
   "source": [
    "from llama_index.embeddings.llamafile import LlamafileEmbedding\n",
    "from llama_index.core import VectorStoreIndex\n",
    "\n",
    "embed_model = LlamafileEmbedding(base_url=server_url, request_timeout=request_timeout)\n",
    "\n",
    "index = VectorStoreIndex(nodes=[], embed_model=embed_model)\n",
    "\n",
    "index.insert_nodes(transformed)"
   ]
  },
  {
   "cell_type": "code",
   "execution_count": 9,
   "id": "53b4890e",
   "metadata": {},
   "outputs": [
    {
     "data": {
      "text/plain": [
       "[NodeWithScore(node=TextNode(id_='f34b0b67-3e7d-4a09-8917-2a5f737358cf', embedding=None, metadata={'file_path': '/Users/akscheglov/hackaton/llamafile/../data/lukomorie.txt', 'file_name': 'lukomorie.txt', 'file_type': 'text/plain', 'file_size': 1599, 'creation_date': '2024-12-28', 'last_modified_date': '2024-12-28'}, excluded_embed_metadata_keys=['file_name', 'file_type', 'file_size', 'creation_date', 'last_modified_date', 'last_accessed_date'], excluded_llm_metadata_keys=['file_name', 'file_type', 'file_size', 'creation_date', 'last_modified_date', 'last_accessed_date'], relationships={<NodeRelationship.SOURCE: '1'>: RelatedNodeInfo(node_id='2df2310b-e810-4f7c-9f14-afec7fb6d26a', node_type='4', metadata={'file_path': '/Users/akscheglov/hackaton/llamafile/../data/lukomorie.txt', 'file_name': 'lukomorie.txt', 'file_type': 'text/plain', 'file_size': 1599, 'creation_date': '2024-12-28', 'last_modified_date': '2024-12-28'}, hash='08b8d9b9816501107621b7bf2059bb82dd974c50c24537630d13ac42eb6ca7f4'), <NodeRelationship.PREVIOUS: '2'>: RelatedNodeInfo(node_id='5c714856-a679-44bd-99b1-40511db72719', node_type='1', metadata={'file_path': '/Users/akscheglov/hackaton/llamafile/../data/lukomorie.txt', 'file_name': 'lukomorie.txt', 'file_type': 'text/plain', 'file_size': 1599, 'creation_date': '2024-12-28', 'last_modified_date': '2024-12-28'}, hash='47dd1bbf00543fb5e43b7a707a02262dea3edc4c88604921a46a5a452181bd7d')}, metadata_template='{key}: {value}', metadata_separator='\\n', text='И там я был, и мёд я пил;\\nУ моря видел дуб зелёный;\\nПод ним сидел, и кот учёный\\nСвои мне сказки говорил.', mimetype='text/plain', start_char_idx=787, end_char_idx=891, metadata_seperator='\\n', text_template='{metadata_str}\\n\\n{content}'), score=0.46249847017952733),\n",
       " NodeWithScore(node=TextNode(id_='5c714856-a679-44bd-99b1-40511db72719', embedding=None, metadata={'file_path': '/Users/akscheglov/hackaton/llamafile/../data/lukomorie.txt', 'file_name': 'lukomorie.txt', 'file_type': 'text/plain', 'file_size': 1599, 'creation_date': '2024-12-28', 'last_modified_date': '2024-12-28'}, excluded_embed_metadata_keys=['file_name', 'file_type', 'file_size', 'creation_date', 'last_modified_date', 'last_accessed_date'], excluded_llm_metadata_keys=['file_name', 'file_type', 'file_size', 'creation_date', 'last_modified_date', 'last_accessed_date'], relationships={<NodeRelationship.SOURCE: '1'>: RelatedNodeInfo(node_id='2df2310b-e810-4f7c-9f14-afec7fb6d26a', node_type='4', metadata={'file_path': '/Users/akscheglov/hackaton/llamafile/../data/lukomorie.txt', 'file_name': 'lukomorie.txt', 'file_type': 'text/plain', 'file_size': 1599, 'creation_date': '2024-12-28', 'last_modified_date': '2024-12-28'}, hash='08b8d9b9816501107621b7bf2059bb82dd974c50c24537630d13ac42eb6ca7f4'), <NodeRelationship.PREVIOUS: '2'>: RelatedNodeInfo(node_id='a271d10b-7e23-4fd1-b279-e531d10d3c0f', node_type='1', metadata={'file_path': '/Users/akscheglov/hackaton/llamafile/../data/lukomorie.txt', 'file_name': 'lukomorie.txt', 'file_type': 'text/plain', 'file_size': 1599, 'creation_date': '2024-12-28', 'last_modified_date': '2024-12-28'}, hash='88037ef73e1ba7fd8ab889a6861fee94892479a7ac4758afd42d2384debac41b')}, metadata_template='{key}: {value}', metadata_separator='\\n', text='И тридцать витязей прекрасных\\nЧредой из вод выходят ясных,\\nИ с ними дядька их морской;\\nТам королевич мимоходом\\nПленяет грозного царя;\\nТам в облаках перед народом\\nЧерез леса, через моря\\nКолдун несёт богатыря;\\nВ темнице там царевна тужит,\\nА бурый волк ей верно служит;\\nТам ступа с Бабою Ягой\\nИдёт, бредёт сама собой,\\nТам царь Кащей над златом чахнет;\\nТам русский дух… там Русью пахнет!', mimetype='text/plain', start_char_idx=403, end_char_idx=786, metadata_seperator='\\n', text_template='{metadata_str}\\n\\n{content}'), score=0.4511265478615351)]"
      ]
     },
     "execution_count": 9,
     "metadata": {},
     "output_type": "execute_result"
    }
   ],
   "source": [
    "retriever = index.as_retriever()\n",
    "\n",
    "response = retriever.retrieve('сколько витязей выходят из моря?')\n",
    "\n",
    "response"
   ]
  },
  {
   "cell_type": "code",
   "execution_count": null,
   "id": "df205866",
   "metadata": {},
   "outputs": [],
   "source": [
    "# from llama_index.core.indices.postprocessor import SimilarityPostprocessor"
   ]
  }
 ],
 "metadata": {
  "kernelspec": {
   "display_name": ".venv",
   "language": "python",
   "name": "python3"
  },
  "language_info": {
   "codemirror_mode": {
    "name": "ipython",
    "version": 3
   },
   "file_extension": ".py",
   "mimetype": "text/x-python",
   "name": "python",
   "nbconvert_exporter": "python",
   "pygments_lexer": "ipython3",
   "version": "3.13.1"
  }
 },
 "nbformat": 4,
 "nbformat_minor": 5
}
