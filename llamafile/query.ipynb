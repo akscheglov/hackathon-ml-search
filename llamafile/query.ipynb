{
 "cells": [
  {
   "cell_type": "code",
   "execution_count": 6,
   "id": "1a5ca04e-fd28-4fe1-b8c1-489df7b5cc78",
   "metadata": {},
   "outputs": [],
   "source": [
    "from config import server_url, persist_dir, request_timeout\n",
    "from llama_index.llms.llamafile import Llamafile\n",
    "from llama_index.embeddings.llamafile import LlamafileEmbedding\n",
    "from llama_index.core import StorageContext, load_index_from_storage, VectorStoreIndex\n",
    "\n",
    "storage_context = StorageContext.from_defaults(persist_dir=persist_dir)\n",
    "embed_model = LlamafileEmbedding(base_url=server_url, request_timeout=request_timeout)\n",
    "index = load_index_from_storage(storage_context, embed_model=embed_model)\n",
    "\n",
    "llm = Llamafile(\n",
    "\tbase_url=server_url,\n",
    "    request_timeout=100,\n",
    "\ttemperature=0,\n",
    "\tseed=0,\n",
    ")\n",
    "query_engine = index.as_query_engine(llm=llm)\n",
    "retriever = index.as_retriever()\n"
   ]
  },
  {
   "cell_type": "code",
   "execution_count": 7,
   "id": "9e3144e4-24c5-4eec-a950-340c31e48c41",
   "metadata": {},
   "outputs": [
    {
     "data": {
      "text/plain": [
       "[NodeWithScore(node=TextNode(id_='10d6f262-8f7c-4246-9ae0-ac0dec6d9ee3', embedding=None, metadata={'file_path': '/Users/akscheglov/hackaton/llamafile/../data/lukomorie.txt', 'file_name': 'lukomorie.txt', 'file_type': 'text/plain', 'file_size': 1599, 'creation_date': '2024-12-28', 'last_modified_date': '2024-12-28'}, excluded_embed_metadata_keys=['file_name', 'file_type', 'file_size', 'creation_date', 'last_modified_date', 'last_accessed_date'], excluded_llm_metadata_keys=['file_name', 'file_type', 'file_size', 'creation_date', 'last_modified_date', 'last_accessed_date'], relationships={<NodeRelationship.SOURCE: '1'>: RelatedNodeInfo(node_id='b6451849-8760-40d7-9a41-ed0b3dd776e7', node_type='4', metadata={'file_path': '/Users/akscheglov/hackaton/llamafile/../data/lukomorie.txt', 'file_name': 'lukomorie.txt', 'file_type': 'text/plain', 'file_size': 1599, 'creation_date': '2024-12-28', 'last_modified_date': '2024-12-28'}, hash='08b8d9b9816501107621b7bf2059bb82dd974c50c24537630d13ac42eb6ca7f4'), <NodeRelationship.PREVIOUS: '2'>: RelatedNodeInfo(node_id='c2b14871-39eb-4ad4-80ea-52f58bfcd0b3', node_type='1', metadata={'file_path': '/Users/akscheglov/hackaton/llamafile/../data/lukomorie.txt', 'file_name': 'lukomorie.txt', 'file_type': 'text/plain', 'file_size': 1599, 'creation_date': '2024-12-28', 'last_modified_date': '2024-12-28'}, hash='47dd1bbf00543fb5e43b7a707a02262dea3edc4c88604921a46a5a452181bd7d')}, metadata_template='{key}: {value}', metadata_separator='\\n', text='И там я был, и мёд я пил;\\nУ моря видел дуб зелёный;\\nПод ним сидел, и кот учёный\\nСвои мне сказки говорил.', mimetype='text/plain', start_char_idx=787, end_char_idx=891, metadata_seperator='\\n', text_template='{metadata_str}\\n\\n{content}'), score=0.46249847017952733),\n",
       " NodeWithScore(node=TextNode(id_='c2b14871-39eb-4ad4-80ea-52f58bfcd0b3', embedding=None, metadata={'file_path': '/Users/akscheglov/hackaton/llamafile/../data/lukomorie.txt', 'file_name': 'lukomorie.txt', 'file_type': 'text/plain', 'file_size': 1599, 'creation_date': '2024-12-28', 'last_modified_date': '2024-12-28'}, excluded_embed_metadata_keys=['file_name', 'file_type', 'file_size', 'creation_date', 'last_modified_date', 'last_accessed_date'], excluded_llm_metadata_keys=['file_name', 'file_type', 'file_size', 'creation_date', 'last_modified_date', 'last_accessed_date'], relationships={<NodeRelationship.SOURCE: '1'>: RelatedNodeInfo(node_id='b6451849-8760-40d7-9a41-ed0b3dd776e7', node_type='4', metadata={'file_path': '/Users/akscheglov/hackaton/llamafile/../data/lukomorie.txt', 'file_name': 'lukomorie.txt', 'file_type': 'text/plain', 'file_size': 1599, 'creation_date': '2024-12-28', 'last_modified_date': '2024-12-28'}, hash='08b8d9b9816501107621b7bf2059bb82dd974c50c24537630d13ac42eb6ca7f4'), <NodeRelationship.PREVIOUS: '2'>: RelatedNodeInfo(node_id='1d022b62-297d-4159-b420-7fb904593e06', node_type='1', metadata={'file_path': '/Users/akscheglov/hackaton/llamafile/../data/lukomorie.txt', 'file_name': 'lukomorie.txt', 'file_type': 'text/plain', 'file_size': 1599, 'creation_date': '2024-12-28', 'last_modified_date': '2024-12-28'}, hash='88037ef73e1ba7fd8ab889a6861fee94892479a7ac4758afd42d2384debac41b'), <NodeRelationship.NEXT: '3'>: RelatedNodeInfo(node_id='10d6f262-8f7c-4246-9ae0-ac0dec6d9ee3', node_type='1', metadata={}, hash='d86606ef050b0e6aebc61af7d4a44bba24dc125df7ccae3b9aa5eded59f8abe7')}, metadata_template='{key}: {value}', metadata_separator='\\n', text='И тридцать витязей прекрасных\\nЧредой из вод выходят ясных,\\nИ с ними дядька их морской;\\nТам королевич мимоходом\\nПленяет грозного царя;\\nТам в облаках перед народом\\nЧерез леса, через моря\\nКолдун несёт богатыря;\\nВ темнице там царевна тужит,\\nА бурый волк ей верно служит;\\nТам ступа с Бабою Ягой\\nИдёт, бредёт сама собой,\\nТам царь Кащей над златом чахнет;\\nТам русский дух… там Русью пахнет!', mimetype='text/plain', start_char_idx=403, end_char_idx=786, metadata_seperator='\\n', text_template='{metadata_str}\\n\\n{content}'), score=0.4511265478615351)]"
      ]
     },
     "execution_count": 7,
     "metadata": {},
     "output_type": "execute_result"
    }
   ],
   "source": [
    "response = retriever.retrieve('сколько витязей выходят из моря?')\n",
    "\n",
    "response"
   ]
  },
  {
   "cell_type": "code",
   "execution_count": 8,
   "id": "797a205f",
   "metadata": {},
   "outputs": [
    {
     "data": {
      "text/plain": [
       "Response(response='Выходят из вод тридцать витязей прекрасных, как описано в тексте.</s>', source_nodes=[NodeWithScore(node=TextNode(id_='1d022b62-297d-4159-b420-7fb904593e06', embedding=None, metadata={'file_path': '/Users/akscheglov/hackaton/llamafile/../data/lukomorie.txt', 'file_name': 'lukomorie.txt', 'file_type': 'text/plain', 'file_size': 1599, 'creation_date': '2024-12-28', 'last_modified_date': '2024-12-28'}, excluded_embed_metadata_keys=['file_name', 'file_type', 'file_size', 'creation_date', 'last_modified_date', 'last_accessed_date'], excluded_llm_metadata_keys=['file_name', 'file_type', 'file_size', 'creation_date', 'last_modified_date', 'last_accessed_date'], relationships={<NodeRelationship.SOURCE: '1'>: RelatedNodeInfo(node_id='b6451849-8760-40d7-9a41-ed0b3dd776e7', node_type='4', metadata={'file_path': '/Users/akscheglov/hackaton/llamafile/../data/lukomorie.txt', 'file_name': 'lukomorie.txt', 'file_type': 'text/plain', 'file_size': 1599, 'creation_date': '2024-12-28', 'last_modified_date': '2024-12-28'}, hash='08b8d9b9816501107621b7bf2059bb82dd974c50c24537630d13ac42eb6ca7f4'), <NodeRelationship.NEXT: '3'>: RelatedNodeInfo(node_id='c2b14871-39eb-4ad4-80ea-52f58bfcd0b3', node_type='1', metadata={}, hash='5d3a1920cd7e4dd9fab5afbd9bc7daa31456a53303ba3f41b46e53c0a0dca857')}, metadata_template='{key}: {value}', metadata_separator='\\n', text='У лукоморья дуб зелёный;\\nЗлатая цепь на дубе том:\\nИ днём и ночью кот учёный\\nВсё ходит по цепи кругом;\\nИдёт направо — песнь заводит,\\nНалево — сказку говорит.\\nТам чудеса: там леший бродит,\\nРусалка на ветвях сидит;\\nТам на неведомых дорожках\\nСледы невиданных зверей;\\nИзбушка там на курьих ножках\\nСтоит без окон, без дверей;\\nТам лес и дол видений полны;\\nТам о заре прихлынут волны\\nНа брег песчаный и пустой,', mimetype='text/plain', start_char_idx=0, end_char_idx=402, metadata_seperator='\\n', text_template='{metadata_str}\\n\\n{content}'), score=0.5226518783053017), NodeWithScore(node=TextNode(id_='c2b14871-39eb-4ad4-80ea-52f58bfcd0b3', embedding=None, metadata={'file_path': '/Users/akscheglov/hackaton/llamafile/../data/lukomorie.txt', 'file_name': 'lukomorie.txt', 'file_type': 'text/plain', 'file_size': 1599, 'creation_date': '2024-12-28', 'last_modified_date': '2024-12-28'}, excluded_embed_metadata_keys=['file_name', 'file_type', 'file_size', 'creation_date', 'last_modified_date', 'last_accessed_date'], excluded_llm_metadata_keys=['file_name', 'file_type', 'file_size', 'creation_date', 'last_modified_date', 'last_accessed_date'], relationships={<NodeRelationship.SOURCE: '1'>: RelatedNodeInfo(node_id='b6451849-8760-40d7-9a41-ed0b3dd776e7', node_type='4', metadata={'file_path': '/Users/akscheglov/hackaton/llamafile/../data/lukomorie.txt', 'file_name': 'lukomorie.txt', 'file_type': 'text/plain', 'file_size': 1599, 'creation_date': '2024-12-28', 'last_modified_date': '2024-12-28'}, hash='08b8d9b9816501107621b7bf2059bb82dd974c50c24537630d13ac42eb6ca7f4'), <NodeRelationship.PREVIOUS: '2'>: RelatedNodeInfo(node_id='1d022b62-297d-4159-b420-7fb904593e06', node_type='1', metadata={'file_path': '/Users/akscheglov/hackaton/llamafile/../data/lukomorie.txt', 'file_name': 'lukomorie.txt', 'file_type': 'text/plain', 'file_size': 1599, 'creation_date': '2024-12-28', 'last_modified_date': '2024-12-28'}, hash='88037ef73e1ba7fd8ab889a6861fee94892479a7ac4758afd42d2384debac41b'), <NodeRelationship.NEXT: '3'>: RelatedNodeInfo(node_id='10d6f262-8f7c-4246-9ae0-ac0dec6d9ee3', node_type='1', metadata={}, hash='d86606ef050b0e6aebc61af7d4a44bba24dc125df7ccae3b9aa5eded59f8abe7')}, metadata_template='{key}: {value}', metadata_separator='\\n', text='И тридцать витязей прекрасных\\nЧредой из вод выходят ясных,\\nИ с ними дядька их морской;\\nТам королевич мимоходом\\nПленяет грозного царя;\\nТам в облаках перед народом\\nЧерез леса, через моря\\nКолдун несёт богатыря;\\nВ темнице там царевна тужит,\\nА бурый волк ей верно служит;\\nТам ступа с Бабою Ягой\\nИдёт, бредёт сама собой,\\nТам царь Кащей над златом чахнет;\\nТам русский дух… там Русью пахнет!', mimetype='text/plain', start_char_idx=403, end_char_idx=786, metadata_seperator='\\n', text_template='{metadata_str}\\n\\n{content}'), score=0.49694768629254615)], metadata={'1d022b62-297d-4159-b420-7fb904593e06': {'file_path': '/Users/akscheglov/hackaton/llamafile/../data/lukomorie.txt', 'file_name': 'lukomorie.txt', 'file_type': 'text/plain', 'file_size': 1599, 'creation_date': '2024-12-28', 'last_modified_date': '2024-12-28'}, 'c2b14871-39eb-4ad4-80ea-52f58bfcd0b3': {'file_path': '/Users/akscheglov/hackaton/llamafile/../data/lukomorie.txt', 'file_name': 'lukomorie.txt', 'file_type': 'text/plain', 'file_size': 1599, 'creation_date': '2024-12-28', 'last_modified_date': '2024-12-28'}})"
      ]
     },
     "execution_count": 8,
     "metadata": {},
     "output_type": "execute_result"
    }
   ],
   "source": [
    "ans = query_engine.query('сколько прекрасных витязей выходят из моря?')\n",
    "\n",
    "ans"
   ]
  }
 ],
 "metadata": {
  "kernelspec": {
   "display_name": ".venv",
   "language": "python",
   "name": "python3"
  },
  "language_info": {
   "codemirror_mode": {
    "name": "ipython",
    "version": 3
   },
   "file_extension": ".py",
   "mimetype": "text/x-python",
   "name": "python",
   "nbconvert_exporter": "python",
   "pygments_lexer": "ipython3",
   "version": "3.13.1"
  }
 },
 "nbformat": 4,
 "nbformat_minor": 5
}
